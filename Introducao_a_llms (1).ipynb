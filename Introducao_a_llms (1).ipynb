{
 "cells": [
  {
   "cell_type": "markdown",
   "id": "262de988-08db-4f2b-85f9-061f63c8c70b",
   "metadata": {},
   "source": [
    "<h1/>Introdução a LLMs 🤖</h1>"
   ]
  },
  {
   "cell_type": "markdown",
   "id": "57a2a372-b6a9-4843-85d9-f135dc553005",
   "metadata": {
    "editable": true,
    "slideshow": {
     "slide_type": ""
    },
    "tags": []
   },
   "source": [
    "<h3/>O que são LLMs?</h3>"
   ]
  },
  {
   "cell_type": "markdown",
   "id": "7669fdfe-b621-49d7-adbe-95493271e407",
   "metadata": {
    "editable": true,
    "slideshow": {
     "slide_type": ""
    },
    "tags": []
   },
   "source": [
    "LLMs(Large Language Models) são algoritmos de inteligência artificial, que aplicam técnicas de rede neurais para realização de processamento da linguagem humana ou texto usando <a href=\"https://www.ibm.com/br-pt/think/topics/self-supervised-learning\"/>aprendizado autossupervisionado</a>. As principais tarefas que esses modelos realizam são: Geração de texto, tradução, resumos, geração de imagem e chat-bots."
   ]
  },
  {
   "cell_type": "markdown",
   "id": "d8550e86-9170-4248-8c2e-1067d435c50f",
   "metadata": {},
   "source": [
    "A seguir uma imagem mostrando a evolução do surgimento de LLMs no mercado:"
   ]
  },
  {
   "cell_type": "markdown",
   "id": "ae948f1e-7629-4173-a13f-e245990cb87f",
   "metadata": {},
   "source": [
    "<img src=\"https://infohub.delltechnologies.com/static/media/13f83181-93ad-4024-a34b-26de431d4d17.png\"/>"
   ]
  },
  {
   "cell_type": "markdown",
   "id": "e46ccb50-ddac-4a3b-8eb5-273c757041fa",
   "metadata": {
    "editable": true,
    "slideshow": {
     "slide_type": ""
    },
    "tags": []
   },
   "source": [
    "<h3>Como Funcionam?</h3>"
   ]
  },
  {
   "cell_type": "markdown",
   "id": "6582e15f-7e51-465f-a7b0-6618fd61b436",
   "metadata": {
    "editable": true,
    "slideshow": {
     "slide_type": ""
    },
    "tags": []
   },
   "source": [
    "Basicamente, os LLMs funcionam com o principio do <a href=\"https://www.ibm.com/br-pt/think/topics/deep-learning\"/>Deep Learning</a>, fazendo uso das arquiteturas de redes neurais para processamento da linguagem humana. Geralmente esses modelos são treinados com grandes <a href=\"https://www.ibm.com/br-pt/think/topics/dataset\"/>datasets</a> usando a técnica de aprendizado autossupervisionado, a base de suas funcionalidades irá variar com o relacionamento e padrões linguísticos presentes nos dados usados para seu treinamento. A arquitetura de um LLM consiste em várias camadas, as principais sendo as camadas de avanço(feedfoward layers), camadas de incorporação(embeddings layers) e as camadas de atenção(attention layers)."
   ]
  },
  {
   "cell_type": "markdown",
   "id": "93c974ff-dbaf-4e4c-8f28-83059346f5bf",
   "metadata": {},
   "source": [
    "A seguir uma imagem contendo um diagrama de como as camadas se comportam:"
   ]
  },
  {
   "cell_type": "markdown",
   "id": "2e3286a0-0129-40f8-a3ae-b69d87908d77",
   "metadata": {
    "editable": true,
    "slideshow": {
     "slide_type": ""
    },
    "tags": []
   },
   "source": [
    "<img src=\"https://media.geeksforgeeks.org/wp-content/uploads/20230531140926/Transformer-python-(1).png\"/>"
   ]
  },
  {
   "cell_type": "markdown",
   "id": "51aa39d5-ec2e-4de5-8775-9581990be8a2",
   "metadata": {},
   "source": [
    "Outros componentes que influenciam na arquitetura dos LLMs são:\n",
    "<ul/>\n",
    "    <li>Tamanho do modelo e quantidade de <a href=\"https://pt.dataconomy.com/2025/05/08/parametros-llm/\">parâmetros</a></li>\n",
    "    <li>Representação do input</li>\n",
    "    <li>Eficiência computacional</li>\n",
    "    <li>Mecanismos de auto-atenção</li>\n",
    "    <li>Objetivos de treino</li>\n",
    "    <li>Decodificação e geração de output</li>\n",
    "</ul>"
   ]
  },
  {
   "cell_type": "markdown",
   "id": "6f576a4e-d3d8-4f76-8d72-b1d7614b5734",
   "metadata": {},
   "source": [
    "<h3>Aplicação dos LLMs</h3>"
   ]
  },
  {
   "cell_type": "markdown",
   "id": "ecd09d68-f74f-4be3-9aa3-972a0096cf3f",
   "metadata": {},
   "source": [
    "Atualmente os LLMs exercem as seguintes tarefas:\n",
    "<ul>\n",
    "    <li>\n",
    "    <b/>Geração de Código:</b> Os LLMs conseguem gerar códigos basedos na instrução do usuário para tarefas específicas.\n",
    "    </li>\n",
    "    <li>\n",
    "    <b/>Debugging e Documentação:</b> Os mesmos podem ser utilizados para indentificação de erros em código e automatização de documentações de projetos.\n",
    "    </li>\n",
    "    <li>\n",
    "    <b/>Responder Perguntas:</b> O usuário pode realizar perguntas simples ou complexas, gerando respostas com contextos concisos.\n",
    "    </li>\n",
    "    <li>\n",
    "    <b/>Tradução e Correção Liguística:</b>\n",
    "    </li>   \n",
    "</ul>"
   ]
  },
  {
   "cell_type": "code",
   "execution_count": null,
   "id": "54bdf44f-eafe-42df-b5b1-fd07a038ff88",
   "metadata": {},
   "outputs": [],
   "source": []
  },
  {
   "cell_type": "code",
   "execution_count": null,
   "id": "0f1942cb-c3cf-4f92-811d-2a31c5e81281",
   "metadata": {},
   "outputs": [],
   "source": []
  },
  {
   "cell_type": "code",
   "execution_count": null,
   "id": "d9f531f9-dc2d-4fae-bc01-1e1beccc9694",
   "metadata": {},
   "outputs": [],
   "source": []
  },
  {
   "cell_type": "code",
   "execution_count": null,
   "id": "40b5e0f5-80a3-4c1a-983c-a4c2f7d59656",
   "metadata": {},
   "outputs": [],
   "source": []
  }
 ],
 "metadata": {
  "kernelspec": {
   "display_name": "Python 3 (ipykernel)",
   "language": "python",
   "name": "python3"
  },
  "language_info": {
   "codemirror_mode": {
    "name": "ipython",
    "version": 3
   },
   "file_extension": ".py",
   "mimetype": "text/x-python",
   "name": "python",
   "nbconvert_exporter": "python",
   "pygments_lexer": "ipython3",
   "version": "3.12.5"
  }
 },
 "nbformat": 4,
 "nbformat_minor": 5
}
